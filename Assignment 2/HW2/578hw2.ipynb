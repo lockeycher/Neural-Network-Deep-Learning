{
 "cells": [
  {
   "cell_type": "code",
   "execution_count": 1,
   "metadata": {},
   "outputs": [],
   "source": [
    "import NN578_network2 as network2\n",
    "import numpy as np\n",
    "\n",
    "# Load the iris train-test (separate) data files\n",
    "def my_load_csv(fname, no_trainfeatures, no_testfeatures):\n",
    "    ret = np.genfromtxt(fname, delimiter=',')\n",
    "    data = np.array([(entry[:no_trainfeatures],entry[no_trainfeatures:]) for entry in ret])\n",
    "    temp_inputs = [np.reshape(x, (no_trainfeatures, 1)) for x in data[:,0]]\n",
    "    temp_results = [np.reshape(y, (no_testfeatures, 1)) for y in data[:,1]]\n",
    "    dataset = list(zip(temp_inputs, temp_results))\n",
    "    return dataset\n",
    "\n",
    "iris_train = my_load_csv('../data/iris-train-1.csv', 4, 3)\n",
    "iris_test = my_load_csv('../data/iris-test-1.csv', 4, 3)"
   ]
  },
  {
   "cell_type": "markdown",
   "metadata": {},
   "source": [
    "***\n",
    "#### iris-423.dat(1)\n",
    "\n",
    "| act_hidden | act_output |    cost     | regularization | lmbda | dropout |\n",
    "|------------|------------|-------------|----------------|-------|---------|\n",
    "| Sigmoid    | Sigmoid    |  Quadratic  |    (default)   |  0.0  |   0.0   |"
   ]
  },
  {
   "cell_type": "code",
   "execution_count": null,
   "metadata": {},
   "outputs": [],
   "source": [
    "net1 = network2.load_network(\"iris-423.dat\")\n",
    "\n",
    "# Set hyper-parameter values individually after the network\n",
    "net1.set_parameters(cost=network2.QuadraticCost)\n",
    "\n",
    "net1.SGD(iris_train, 10, 1, 0.1, evaluation_data=iris_test, monitor_evaluation_cost=True, \n",
    "            monitor_evaluation_accuracy=True,\n",
    "            monitor_training_cost=True,\n",
    "            monitor_training_accuracy=True)"
   ]
  },
  {
   "cell_type": "markdown",
   "metadata": {},
   "source": [
    "***\n",
    "#### iris-423.dat(2)\n",
    "\n",
    "| act_hidden | act_output |     cost     | regularization | lmbda | dropout |\n",
    "|------------|------------|--------------|----------------|-------|---------|\n",
    "|   Sigmoid  |  Sigmoid   | CrossEntropy |    (default)   |  0.0  |   0.0   |"
   ]
  },
  {
   "cell_type": "code",
   "execution_count": 2,
   "metadata": {},
   "outputs": [
    {
     "name": "stdout",
     "output_type": "stream",
     "text": [
      "Epoch 0 training complete\n",
      "Cost on training data: 1.4243655495016823\n",
      "Accuracy on training data: 65 / 95\n",
      "Cost on evaluation data: 1.467890768269605\n",
      "Accuracy on evaluation data: 35 / 55\n",
      "\n",
      "Epoch 1 training complete\n",
      "Cost on training data: 1.1032958748484472\n",
      "Accuracy on training data: 65 / 95\n",
      "Cost on evaluation data: 1.1648974933035676\n",
      "Accuracy on evaluation data: 35 / 55\n",
      "\n",
      "Epoch 2 training complete\n",
      "Cost on training data: 1.0306102779217587\n",
      "Accuracy on training data: 65 / 95\n",
      "Cost on evaluation data: 1.0923663726875503\n",
      "Accuracy on evaluation data: 35 / 55\n",
      "\n",
      "Epoch 3 training complete\n",
      "Cost on training data: 1.0068031784564735\n",
      "Accuracy on training data: 65 / 95\n",
      "Cost on evaluation data: 1.07027623181025\n",
      "Accuracy on evaluation data: 35 / 55\n",
      "\n",
      "Epoch 4 training complete\n",
      "Cost on training data: 1.0048547820730196\n",
      "Accuracy on training data: 64 / 95\n",
      "Cost on evaluation data: 1.0722527839152156\n",
      "Accuracy on evaluation data: 34 / 55\n",
      "\n",
      "Epoch 5 training complete\n",
      "Cost on training data: 0.9815554815548656\n",
      "Accuracy on training data: 65 / 95\n",
      "Cost on evaluation data: 1.0421450048185454\n",
      "Accuracy on evaluation data: 35 / 55\n",
      "\n",
      "Epoch 6 training complete\n",
      "Cost on training data: 1.0112474546094026\n",
      "Accuracy on training data: 64 / 95\n",
      "Cost on evaluation data: 1.0802116691762482\n",
      "Accuracy on evaluation data: 34 / 55\n",
      "\n",
      "Epoch 7 training complete\n",
      "Cost on training data: 1.0204765788188515\n",
      "Accuracy on training data: 64 / 95\n",
      "Cost on evaluation data: 1.089818905762901\n",
      "Accuracy on evaluation data: 34 / 55\n",
      "\n",
      "Epoch 8 training complete\n",
      "Cost on training data: 0.9776198659270663\n",
      "Accuracy on training data: 65 / 95\n",
      "Cost on evaluation data: 1.0390330236572791\n",
      "Accuracy on evaluation data: 35 / 55\n",
      "\n",
      "Epoch 9 training complete\n",
      "Cost on training data: 0.9703219378739956\n",
      "Accuracy on training data: 65 / 95\n",
      "Cost on evaluation data: 1.038735996826092\n",
      "Accuracy on evaluation data: 35 / 55\n",
      "\n"
     ]
    },
    {
     "data": {
      "text/plain": [
       "([1.467890768269605,\n",
       "  1.1648974933035676,\n",
       "  1.0923663726875503,\n",
       "  1.07027623181025,\n",
       "  1.0722527839152156,\n",
       "  1.0421450048185454,\n",
       "  1.0802116691762482,\n",
       "  1.089818905762901,\n",
       "  1.0390330236572791,\n",
       "  1.038735996826092],\n",
       " [35, 35, 35, 35, 34, 35, 34, 34, 35, 35],\n",
       " [1.4243655495016823,\n",
       "  1.1032958748484472,\n",
       "  1.0306102779217587,\n",
       "  1.0068031784564735,\n",
       "  1.0048547820730196,\n",
       "  0.9815554815548656,\n",
       "  1.0112474546094026,\n",
       "  1.0204765788188515,\n",
       "  0.9776198659270663,\n",
       "  0.9703219378739956],\n",
       " [65, 65, 65, 65, 64, 65, 64, 64, 65, 65])"
      ]
     },
     "execution_count": 2,
     "metadata": {},
     "output_type": "execute_result"
    }
   ],
   "source": [
    "net2 = network2.load_network(\"iris-423.dat\")\n",
    "\n",
    "# Set hyper-parameter values individually after the network\n",
    "net2.set_parameters(cost=network2.CrossEntropyCost)\n",
    "\n",
    "net2.SGD(iris_train, 10, 2, 0.5, evaluation_data=iris_test, monitor_evaluation_cost=True, \n",
    "            monitor_evaluation_accuracy=True,\n",
    "            monitor_training_cost=True,\n",
    "            monitor_training_accuracy=True)"
   ]
  },
  {
   "cell_type": "markdown",
   "metadata": {},
   "source": [
    "***\n",
    "#### iris-423.dat(3)\n",
    "\n",
    "| act_hidden | act_output |     cost     | regularization | lmbda | dropout |\n",
    "|------------|------------|--------------|----------------|-------|---------|\n",
    "|    ReLU    | Softmax    | CrossEntropy |    (default)   |  0.0  |   0.0   |"
   ]
  },
  {
   "cell_type": "code",
   "execution_count": null,
   "metadata": {},
   "outputs": [],
   "source": [
    "net3 = network2.load_network(\"iris-423.dat\")\n",
    "\n",
    "# Set hyper-parameter values individually after the network\n",
    "net3.set_parameters(cost=network2.CrossEntropyCost, act_output=network2.Softmax, act_hidden=network2.ReLU)\n",
    "\n",
    "net3.SGD(iris_train, 10, 15, 0.01, evaluation_data=iris_test, monitor_evaluation_cost=True, \n",
    "            monitor_evaluation_accuracy=True,\n",
    "            monitor_training_cost=True,\n",
    "            monitor_training_accuracy=True)"
   ]
  },
  {
   "cell_type": "markdown",
   "metadata": {},
   "source": [
    "***\n",
    "#### iris-423.dat(4)\n",
    "\n",
    "| act_hidden | act_output |     cost      | regularization | lmbda | dropout |\n",
    "|------------|------------|---------------|----------------|-------|---------|\n",
    "|    ReLU    | Softmax    | LogLikelihood |    (default)   |  0.0  |   0.0   |"
   ]
  },
  {
   "cell_type": "code",
   "execution_count": null,
   "metadata": {},
   "outputs": [],
   "source": [
    "net4 = network2.load_network(\"iris-423.dat\")\n",
    "\n",
    "# Set hyper-parameter values individually after the network\n",
    "net4.set_parameters(cost=network2.LogLikelihood, act_output=network2.Softmax, act_hidden=network2.ReLU)\n",
    "\n",
    "net4.SGD(iris_train, 10, 15, 0.01, evaluation_data=iris_test, monitor_evaluation_cost=True, \n",
    "            monitor_evaluation_accuracy=True,\n",
    "            monitor_training_cost=True,\n",
    "            monitor_training_accuracy=True)"
   ]
  },
  {
   "cell_type": "markdown",
   "metadata": {},
   "source": [
    "***\n",
    "#### iris-423.dat(5)\n",
    "\n",
    "| act_hidden | act_output |     cost     | regularization | lmbda | dropout |\n",
    "|------------|------------|--------------|----------------|-------|---------|\n",
    "|    Tanh    |   Tanh     | CrossEntropy |    (default)   |  0.0  |   0.0   |"
   ]
  },
  {
   "cell_type": "code",
   "execution_count": null,
   "metadata": {},
   "outputs": [],
   "source": [
    "net7 = network2.load_network(\"iris-423.dat\")\n",
    "\n",
    "# Set hyper-parameter values individually after the network\n",
    "net7.set_parameters(cost=network2.CrossEntropyCost, act_output=network2.Tanh, act_hidden=network2.Tanh)\n",
    "\n",
    "net7.SGD(iris_train, 10, 2, 0.1, evaluation_data=iris_test, monitor_evaluation_cost=True, \n",
    "            monitor_evaluation_accuracy=True,\n",
    "            monitor_training_cost=True,\n",
    "            monitor_training_accuracy=True)"
   ]
  },
  {
   "cell_type": "markdown",
   "metadata": {},
   "source": [
    "***\n",
    "#### iris-423.dat(7)\n",
    "\n",
    "| act_hidden | act_output |     cost      | regularization | lmbda | dropout |\n",
    "|------------|------------|---------------|----------------|-------|---------|\n",
    "|    ReLU    |  Softmax   | LogLikelihood |       L2       |  3.0  |   0.0   |"
   ]
  },
  {
   "cell_type": "code",
   "execution_count": null,
   "metadata": {},
   "outputs": [],
   "source": [
    "net7 = network2.load_network(\"iris-423.dat\")\n",
    "\n",
    "# Set hyper-parameter values individually after the network\n",
    "net7.set_parameters(cost=network2.LogLikelihood, act_output=network2.Softmax, act_hidden=network2.ReLU, regularization='L2')\n",
    "\n",
    "net7.SGD(iris_train, 10, 15, 0.5, lmbda = 3.0, evaluation_data=iris_test, monitor_evaluation_cost=True, \n",
    "            monitor_evaluation_accuracy=True,\n",
    "            monitor_training_cost=True,\n",
    "            monitor_training_accuracy=True)"
   ]
  },
  {
   "cell_type": "markdown",
   "metadata": {},
   "source": [
    "***\n",
    "#### iris-423.dat(8)\n",
    "\n",
    "| act_hidden | act_output |     cost      | regularization | lmbda | dropout |\n",
    "|------------|------------|---------------|----------------|-------|---------|\n",
    "|    ReLU    |  Softmax   | LogLikelihood |       L1       |  3.0  |   0.0   |"
   ]
  },
  {
   "cell_type": "code",
   "execution_count": null,
   "metadata": {},
   "outputs": [],
   "source": [
    "net8 = network2.load_network(\"iris-423.dat\")\n",
    "\n",
    "# Set hyper-parameter values individually after the network\n",
    "net8.set_parameters(cost=network2.LogLikelihood, act_output=network2.Softmax, act_hidden=network2.ReLU, regularization='L1')\n",
    "\n",
    "net8.SGD(iris_train, 10, 5, 0.5, evaluation_data=iris_test, monitor_evaluation_cost=True, \n",
    "            monitor_evaluation_accuracy=True,\n",
    "            monitor_training_cost=True,\n",
    "            monitor_training_accuracy=True)"
   ]
  },
  {
   "cell_type": "markdown",
   "metadata": {},
   "source": [
    "***\n",
    "#### iris-4-20-7-3.dat(9)\n",
    "\n",
    "| act_hidden | act_output |     cost      | regularization | lmbda | dropout |\n",
    "|------------|------------|---------------|----------------|-------|---------|\n",
    "|    ReLU    |  Softmax   | LogLikelihood |    (default)   |  0.0  |   0.1   |"
   ]
  },
  {
   "cell_type": "code",
   "execution_count": null,
   "metadata": {},
   "outputs": [],
   "source": [
    "net9 = network2.load_network(\"iris-4-20-7-3.dat\")\n",
    "\n",
    "# Set hyper-parameter values individually after the network\n",
    "net9.set_parameters(cost=network2.LogLikelihood, act_output=network2.Softmax, act_hidden=network2.ReLU, dropoutpercent=0.1)\n",
    "\n",
    "net9.SGD(iris_train, 10, 10, 0.1, evaluation_data=iris_test, monitor_evaluation_cost=True, \n",
    "            monitor_evaluation_accuracy=True,\n",
    "            monitor_training_cost=True,\n",
    "            monitor_training_accuracy=True)"
   ]
  },
  {
   "cell_type": "markdown",
   "metadata": {},
   "source": [
    "# ***\n",
    "#### iris-4-20-7-3.dat(10)\n",
    "\n",
    "| act_hidden | act_output |     cost      | regularization | lmbda | dropout |\n",
    "|------------|------------|---------------|----------------|-------|---------|\n",
    "|    ReLU    |  Softmax   | LogLikelihood |    (default)   |  0.0  |   0.5   |"
   ]
  },
  {
   "cell_type": "code",
   "execution_count": null,
   "metadata": {},
   "outputs": [],
   "source": [
    "net10 = network2.load_network(\"iris-4-20-7-3.dat\")\n",
    "\n",
    "# Set hyper-parameter values individually after the network\n",
    "net10.set_parameters(cost=network2.LogLikelihood, act_output=network2.Softmax, act_hidden=network2.ReLU, dropoutpercent=0.5)\n",
    "\n",
    "net10.SGD(iris_train, 10, 5, 0.5, evaluation_data=iris_test, monitor_evaluation_cost=True, \n",
    "            monitor_evaluation_accuracy=True,\n",
    "            monitor_training_cost=True,\n",
    "            monitor_training_accuracy=True)"
   ]
  },
  {
   "cell_type": "markdown",
   "metadata": {},
   "source": [
    "***\n",
    "#### iris-4-20-7-3.dat(11)\n",
    "\n",
    "| act_hidden | act_output |     cost      | regularization | lmbda | dropout |\n",
    "|------------|------------|---------------|----------------|-------|---------|\n",
    "|    ReLU    |  Softmax   | LogLikelihood |       L2       |  3.0  |   0.1   |"
   ]
  },
  {
   "cell_type": "code",
   "execution_count": null,
   "metadata": {},
   "outputs": [],
   "source": [
    "net11 = network2.load_network(\"iris-4-20-7-3.dat\")\n",
    "\n",
    "# Set hyper-parameter values individually after the network\n",
    "net11.set_parameters(cost=network2.LogLikelihood, act_output=network2.Softmax, act_hidden=network2.ReLU, dropoutpercent=0.1, regularization='L2')\n",
    "\n",
    "net11.SGD(iris_train, 10, 10, 0.1, lmbda = 3.0,\n",
    "            evaluation_data=iris_test, monitor_evaluation_cost=True, \n",
    "            monitor_evaluation_accuracy=True,\n",
    "            monitor_training_cost=True,\n",
    "            monitor_training_accuracy=True)"
   ]
  },
  {
   "cell_type": "markdown",
   "metadata": {},
   "source": [
    "***\n",
    "#### iris-4-20-7-3.dat(12)\n",
    "\n",
    "| act_hidden | act_output |     cost      | regularization | lmbda | dropout |\n",
    "|------------|------------|---------------|----------------|-------|---------|\n",
    "|    ReLU    |  Softmax   | LogLikelihood |       L2       |  3.0  |   0.5   |"
   ]
  },
  {
   "cell_type": "code",
   "execution_count": null,
   "metadata": {},
   "outputs": [],
   "source": [
    "net12 = network2.load_network(\"iris-4-20-7-3.dat\")\n",
    "\n",
    "# Set hyper-parameter values individually after the network\n",
    "net12.set_parameters(cost=network2.LogLikelihood, act_output=network2.Softmax, act_hidden=network2.ReLU, dropoutpercent=0.5, regularization='L2')\n",
    "\n",
    "net12.SGD(iris_train, 10, 5, 1.0, lmbda = 3.0,\n",
    "            evaluation_data=iris_test, monitor_evaluation_cost=True, \n",
    "            monitor_evaluation_accuracy=True,\n",
    "            monitor_training_cost=True,\n",
    "            monitor_training_accuracy=True)"
   ]
  },
  {
   "cell_type": "code",
   "execution_count": null,
   "metadata": {},
   "outputs": [],
   "source": []
  }
 ],
 "metadata": {
  "kernelspec": {
   "display_name": "Python 3",
   "language": "python",
   "name": "python3"
  },
  "language_info": {
   "codemirror_mode": {
    "name": "ipython",
    "version": 3
   },
   "file_extension": ".py",
   "mimetype": "text/x-python",
   "name": "python",
   "nbconvert_exporter": "python",
   "pygments_lexer": "ipython3",
   "version": "3.6.5"
  }
 },
 "nbformat": 4,
 "nbformat_minor": 2
}
